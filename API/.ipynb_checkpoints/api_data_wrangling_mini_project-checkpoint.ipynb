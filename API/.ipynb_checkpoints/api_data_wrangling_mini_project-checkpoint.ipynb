{
 "cells": [
  {
   "cell_type": "markdown",
   "metadata": {},
   "source": [
    "This exercise will require you to pull some data from the Qunadl API. Qaundl is currently the most widely used aggregator of financial market data."
   ]
  },
  {
   "cell_type": "markdown",
   "metadata": {},
   "source": [
    "As a first step, you will need to register a free account on the http://www.quandl.com website."
   ]
  },
  {
   "cell_type": "markdown",
   "metadata": {},
   "source": [
    "After you register, you will be provided with a unique API key, that you should store:"
   ]
  },
  {
   "cell_type": "code",
   "execution_count": null,
   "metadata": {},
   "outputs": [],
   "source": [
    "# Store the API key as a string - according to PEP8, constants are always named in all upper case\n",
    "API_KEY = ''"
   ]
  },
  {
   "cell_type": "markdown",
   "metadata": {},
   "source": [
    "Qaundl has a large number of data sources, but, unfortunately, most of them require a Premium subscription. Still, there are also a good number of free datasets."
   ]
  },
  {
   "cell_type": "markdown",
   "metadata": {},
   "source": [
    "For this mini project, we will focus on equities data from the Frankfurt Stock Exhange (FSE), which is available for free. We'll try and analyze the stock prices of a company called Carl Zeiss Meditec, which manufactures tools for eye examinations, as well as medical lasers for laser eye surgery: https://www.zeiss.com/meditec/int/home.html. The company is listed under the stock ticker AFX_X."
   ]
  },
  {
   "cell_type": "markdown",
   "metadata": {},
   "source": [
    "You can find the detailed Quandl API instructions here: https://docs.quandl.com/docs/time-series"
   ]
  },
  {
   "cell_type": "markdown",
   "metadata": {},
   "source": [
    "While there is a dedicated Python package for connecting to the Quandl API, we would prefer that you use the *requests* package, which can be easily downloaded using *pip* or *conda*. You can find the documentation for the package here: http://docs.python-requests.org/en/master/ "
   ]
  },
  {
   "cell_type": "markdown",
   "metadata": {},
   "source": [
    "Finally, apart from the *requests* package, you are encouraged to not use any third party Python packages, such as *pandas*, and instead focus on what's available in the Python Standard Library (the *collections* module might come in handy: https://pymotw.com/3/collections/ ).\n",
    "Also, since you won't have access to DataFrames, you are encouraged to us Python's native data structures - preferably dictionaries, though some questions can also be answered using lists.\n",
    "You can read more on these data structures here: https://docs.python.org/3/tutorial/datastructures.html"
   ]
  },
  {
   "cell_type": "markdown",
   "metadata": {},
   "source": [
    "Keep in mind that the JSON responses you will be getting from the API map almost one-to-one to Python's dictionaries. Unfortunately, they can be very nested, so make sure you read up on indexing dictionaries in the documentation provided above."
   ]
  },
  {
   "cell_type": "code",
   "execution_count": null,
   "metadata": {},
   "outputs": [],
   "source": [
    "# First, import the relevant modules\n",
    "import requests\n",
    "import json\n",
    "import numpy as np\n",
    "import statistics as st\n"
   ]
  },
  {
   "cell_type": "code",
   "execution_count": null,
   "metadata": {},
   "outputs": [],
   "source": [
    "# Now, call the Quandl API and pull out a small sample of the data (only one day) to get a glimpse\n",
    "# into the JSON structure that will be returned\n",
    "\n",
    "database = 'FSE'\n",
    "stock_code = 'AFX_X'\n",
    "url = 'https://www.quandl.com/api/v3/datasets/'+database+'/' + stock_code +'/data.json?api_key=' + API_KEY\n",
    "print(url) \n",
    "r = requests.get(url)\n",
    "\n",
    "# Test the request to see whether is okay or not \n",
    "r.status_code == requests.codes.ok\n",
    "\n",
    "json_data = r.json()"
   ]
  },
  {
   "cell_type": "code",
   "execution_count": null,
   "metadata": {},
   "outputs": [],
   "source": [
    "# Inspect the JSON structure of the object you created, and take note of how nested it is,\n",
    "# as well as the overall structure\n",
    "\n",
    "#level 1 Json\n",
    "print(json_data.keys())\n",
    "\n",
    "#level 2 Json\n",
    "print(json_data['dataset_data'].keys())\n"
   ]
  },
  {
   "cell_type": "markdown",
   "metadata": {},
   "source": [
    "These are your tasks for this mini project:\n",
    "\n",
    "1. Collect data from the Franfurt Stock Exchange, for the ticker AFX_X, for the whole year 2017 (keep in mind that the date format is YYYY-MM-DD).\n",
    "2. Convert the returned JSON object into a Python dictionary.\n",
    "3. Calculate what the highest and lowest opening prices were for the stock in this period.\n",
    "4. What was the largest change in any one day (based on High and Low price)?\n",
    "5. What was the largest change between any two days (based on Closing Price)?\n",
    "6. What was the average daily trading volume during this year?\n",
    "7. (Optional) What was the median trading volume during this year. (Note: you may need to implement your own function for calculating the median.)"
   ]
  },
  {
   "cell_type": "markdown",
   "metadata": {
    "collapsed": true
   },
   "source": [
    "Collect data from the Franfurt Stock Exchange, for the ticker AFX_X, for the whole year 2017 (keep in mind that the date format is YYYY-MM-DD).\n"
   ]
  },
  {
   "cell_type": "code",
   "execution_count": null,
   "metadata": {},
   "outputs": [],
   "source": [
    "column_index=4 # stock close data\n",
    "start_date = '2017-01-01'\n",
    "end_date = '2017-12-31'\n",
    "collapse='daily'\n",
    "\n",
    "newurl = url + '&column_index=' + str(column_index) + '&start_date=' + start_date + '&end_date=' + end_date + '&collapse=' + collapse  \n",
    "print (newurl) "
   ]
  },
  {
   "cell_type": "markdown",
   "metadata": {},
   "source": [
    "Convert the returned JSON object into a Python dictionary.\n"
   ]
  },
  {
   "cell_type": "code",
   "execution_count": null,
   "metadata": {},
   "outputs": [],
   "source": [
    "r1 = requests.get(newurl)\n",
    "\n",
    "# Test the request to see whether is okay or not \n",
    "r1.status_code == requests.codes.ok\n",
    "\n",
    "json_data1 = r1.json()"
   ]
  },
  {
   "cell_type": "markdown",
   "metadata": {},
   "source": [
    "Calculate what the highest and lowest opening prices were for the stock in this period."
   ]
  },
  {
   "cell_type": "code",
   "execution_count": null,
   "metadata": {},
   "outputs": [],
   "source": [
    "#print(json_data1['dataset_data']['data'][:5])\n",
    "\n",
    "dict_data = dict((json_data1['dataset_data']['data']))\n",
    "\n",
    "\n",
    "key_highest = max(dict_data.keys(), key=(lambda k: dict_data[k]))\n",
    "key_lowest = min(dict_data.keys(), key=(lambda k: dict_data[k]))\n",
    "\n",
    "print('Highest Value: ',dict_data[key_highest])\n",
    "\n",
    "print('Lowest Value: ' ,dict_data[key_lowest])\n"
   ]
  },
  {
   "cell_type": "markdown",
   "metadata": {},
   "source": [
    "What was the largest change in any one day (based on High and Low price)?"
   ]
  },
  {
   "cell_type": "code",
   "execution_count": null,
   "metadata": {},
   "outputs": [],
   "source": [
    "column_index=2 # high price data daily\n",
    "start_date = '2017-01-01'\n",
    "end_date = '2017-12-31'\n",
    "collapse='daily'\n",
    "\n",
    "newurl_high = url + '&column_index=' + str(column_index) + '&start_date=' + start_date + '&end_date=' + end_date + '&collapse=' + collapse  \n",
    "print (newurl_high) \n",
    "\n",
    "column_index=3 # low price data daily\n",
    "start_date = '2017-01-01'\n",
    "end_date = '2017-12-31'\n",
    "collapse='daily'\n",
    "\n",
    "newurl_low = url + '&column_index=' + str(column_index) + '&start_date=' + start_date + '&end_date=' + end_date + '&collapse=' + collapse  \n",
    "print (newurl_low) \n",
    "\n",
    "r_low  = requests.get(newurl_low)\n",
    "r_high = requests.get(newurl_high)\n",
    "\n",
    "json_data_low = r_low.json()\n",
    "json_data_high = r_high.json()\n",
    "\n",
    "lst_data_low = list(dict((json_data_low['dataset_data']['data'])).values())\n",
    "lst_data_high = list(dict((json_data_high['dataset_data']['data'])).values())\n",
    "lst_data_delta_key = list(dict((json_data_low['dataset_data']['data'])).keys())\n",
    "\n",
    "np_array_low = np.array(lst_data_low)\n",
    "np_array_high = np.array(lst_data_high)\n",
    "\n",
    "np_array_delta = np_array_high - np_array_low\n",
    "\n",
    "maxEl = np.amax(np_array_delta)\n",
    "result = np.where(np_array_delta == np.amax(np_array_delta))\n",
    "\n",
    "#print(np_array_delta)\n",
    "\n",
    "print('Largest change in any one day is : ', maxEl)\n",
    "\n",
    "#print(result)\n",
    "#print(lst_data_delta_key[result])\n",
    "\n"
   ]
  },
  {
   "cell_type": "markdown",
   "metadata": {},
   "source": [
    "What was the largest change between any two days (based on Closing Price)?"
   ]
  },
  {
   "cell_type": "code",
   "execution_count": null,
   "metadata": {},
   "outputs": [],
   "source": [
    "column_index=4 # high price data daily\n",
    "start_date = '2017-01-01'\n",
    "end_date = '2017-12-31'\n",
    "collapse='daily'\n",
    "transform='diff'\n",
    "\n",
    "newurl_2days = url + '&column_index=' + str(column_index) + '&start_date=' + start_date + '&end_date=' + end_date + '&collapse=' + collapse\n",
    "newurl_2days = newurl_2days + '&transform='+transform\n",
    "print (newurl_2days)\n",
    "\n",
    "r_2day_diff = requests.get(newurl_2days)\n",
    "\n",
    "json_2day_data = r_2day_diff.json()\n",
    "\n",
    "np_array_2days = np.array(list(dict(json_2day_data['dataset_data']['data']).values()))\n",
    "\n",
    "max2days = np.amax(np_array_2days)\n",
    "\n",
    "#print(np_array_2days) \n",
    "\n",
    "print('5. What was the largest change between any two days (based on Closing Price)?',max2days)\n",
    "\n"
   ]
  },
  {
   "cell_type": "markdown",
   "metadata": {},
   "source": [
    "What was the average daily trading volume during this year?\n"
   ]
  },
  {
   "cell_type": "code",
   "execution_count": null,
   "metadata": {},
   "outputs": [],
   "source": [
    "column_index=6 # high price data daily\n",
    "start_date = '2017-01-01'\n",
    "end_date = '2017-12-31'\n",
    "collapse='daily'\n",
    "\n",
    "newurl_avg = url + '&column_index=' + str(column_index) + '&start_date=' + start_date + '&end_date=' + end_date + '&collapse=' + collapse  \n",
    "print (newurl_avg) \n",
    "\n",
    "r_avg = requests.get(newurl_avg)\n",
    "\n",
    "json_data_avg = r_avg.json()\n",
    "\n",
    "lst_avg= list(dict(json_data_avg['dataset_data']['data']).values())\n",
    "\n",
    "#print(lst_avg)\n",
    "print('What was the average daily trading volume during this year?', sum(lst_avg) / len(lst_avg)) \n",
    "\n",
    "#print(len(lst_avg))"
   ]
  },
  {
   "cell_type": "markdown",
   "metadata": {},
   "source": [
    "(Optional) What was the median trading volume during this year. (Note: you may need to implement your own function for calculating the median.)"
   ]
  },
  {
   "cell_type": "code",
   "execution_count": null,
   "metadata": {},
   "outputs": [],
   "source": [
    "result_median = st.median(lst_avg)\n",
    "\n",
    "print('What was the median trading volume during this year?',result_median)"
   ]
  },
  {
   "cell_type": "code",
   "execution_count": null,
   "metadata": {},
   "outputs": [],
   "source": []
  }
 ],
 "metadata": {
  "kernelspec": {
   "display_name": "Python 3",
   "language": "python",
   "name": "python3"
  },
  "language_info": {
   "codemirror_mode": {
    "name": "ipython",
    "version": 3
   },
   "file_extension": ".py",
   "mimetype": "text/x-python",
   "name": "python",
   "nbconvert_exporter": "python",
   "pygments_lexer": "ipython3",
   "version": "3.8.3"
  }
 },
 "nbformat": 4,
 "nbformat_minor": 2
}
